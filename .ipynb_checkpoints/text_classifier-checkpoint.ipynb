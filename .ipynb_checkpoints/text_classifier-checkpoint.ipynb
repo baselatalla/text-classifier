{
 "cells": [
  {
   "cell_type": "markdown",
   "id": "a6b9e49b-c60e-4832-a0e0-791d2f1f64ae",
   "metadata": {},
   "source": [
    "# Lab : Machine Learning Intro \n",
    "## Data Set Name : Sentiment Labelled Sentences Data Set\n",
    "## Author : Basel Atalla\n",
    "## Date : 27/06/2021"
   ]
  },
  {
   "cell_type": "code",
   "execution_count": 1,
   "id": "03c2736a-d3a7-40d6-83f6-5effcf9b6d24",
   "metadata": {},
   "outputs": [],
   "source": [
    "import pandas as pd\n",
    "from sklearn.feature_extraction.text import CountVectorizer\n",
    "from sklearn.model_selection import train_test_split\n",
    "from sklearn.linear_model import LogisticRegression"
   ]
  },
  {
   "cell_type": "code",
   "execution_count": 2,
   "id": "0e00ca06-4f2f-4022-94dd-b410ece1285e",
   "metadata": {},
   "outputs": [],
   "source": [
    "filepath_dict = {'yelp':   'data/sentiment_analysis/yelp_labelled.txt',\n",
    "                 'amazon': 'data/sentiment_analysis/amazon_cells_labelled.txt',\n",
    "                 'imdb':   'data/sentiment_analysis/imdb_labelled.txt'}\n"
   ]
  },
  {
   "cell_type": "code",
   "execution_count": 3,
   "id": "21c9bfa4-3247-4591-bdb9-f9644be2d533",
   "metadata": {},
   "outputs": [
    {
     "name": "stdout",
     "output_type": "stream",
     "text": [
      "sentence    Wow... Loved this place.\n",
      "label                              1\n",
      "source                          yelp\n",
      "Name: 0, dtype: object\n"
     ]
    }
   ],
   "source": [
    "df_list = []\n",
    "for source, filepath in filepath_dict.items():\n",
    "    df = pd.read_csv(filepath, names=['sentence', 'label'], sep='\\t')\n",
    "    df['source'] = source\n",
    "    df_list.append(df)\n",
    "df = pd.concat(df_list)\n",
    "print(df.iloc[0])"
   ]
  },
  {
   "cell_type": "code",
   "execution_count": 4,
   "id": "35c039b8-0f0c-4f00-82f5-73465503c213",
   "metadata": {},
   "outputs": [],
   "source": [
    "sentences = ['John likes ice cream', 'John hates chocolate']"
   ]
  },
  {
   "cell_type": "code",
   "execution_count": 5,
   "id": "09f6a3b4-0b8e-4ec7-b225-6b85abc488e4",
   "metadata": {},
   "outputs": [
    {
     "data": {
      "text/plain": [
       "{'John': 0, 'likes': 5, 'ice': 4, 'cream': 2, 'hates': 3, 'chocolate': 1}"
      ]
     },
     "execution_count": 5,
     "metadata": {},
     "output_type": "execute_result"
    }
   ],
   "source": [
    "vectorizer = CountVectorizer(min_df=0, lowercase=False)\n",
    "vectorizer.fit(sentences)\n",
    "vectorizer.vocabulary_"
   ]
  },
  {
   "cell_type": "code",
   "execution_count": 6,
   "id": "91f7bea2-8ca7-4eb1-b711-07673c15ebfc",
   "metadata": {},
   "outputs": [
    {
     "data": {
      "text/plain": [
       "array([[1, 0, 1, 0, 1, 1],\n",
       "       [1, 1, 0, 1, 0, 0]])"
      ]
     },
     "execution_count": 6,
     "metadata": {},
     "output_type": "execute_result"
    }
   ],
   "source": [
    "vectorizer.transform(sentences).toarray()\n"
   ]
  },
  {
   "cell_type": "code",
   "execution_count": 7,
   "id": "972a10bd-d43c-4e0f-a13b-4e1f52325f75",
   "metadata": {},
   "outputs": [],
   "source": [
    "df_yelp = df[df['source'] == 'yelp']\n",
    "df_amazon = df[df['source'] == 'amazon']\n",
    "df_imdb = df[df['source'] == 'imdb']"
   ]
  },
  {
   "cell_type": "code",
   "execution_count": 8,
   "id": "77884549-46e5-4286-8aab-34b1254c4f18",
   "metadata": {},
   "outputs": [],
   "source": [
    "yelp_sentences = df_yelp['sentence'].values\n",
    "amazon_sentences = df_amazon['sentence'].values\n",
    "imdb_sentences = df_imdb['sentence'].values"
   ]
  },
  {
   "cell_type": "code",
   "execution_count": 9,
   "id": "b6b8c7e2-b82b-4a74-8ab2-84ee4405be37",
   "metadata": {},
   "outputs": [],
   "source": [
    "y_yelp = df_yelp['label'].values\n",
    "y_amazon = df_amazon['label'].values\n",
    "y_imdb = df_imdb['label'].values"
   ]
  },
  {
   "cell_type": "code",
   "execution_count": 10,
   "id": "c2616ca4-6188-4d5f-b6df-2981403e080b",
   "metadata": {},
   "outputs": [],
   "source": [
    "yelp_sentences_train, yelp_sentences_test, y_yelp_train, y_yelp_test = train_test_split(yelp_sentences, y_yelp, test_size=0.25, random_state=1000)"
   ]
  },
  {
   "cell_type": "code",
   "execution_count": 11,
   "id": "04aafd14-d403-4044-96f9-5ca433d6b685",
   "metadata": {},
   "outputs": [],
   "source": [
    "\n",
    "amazon_sentences_train, amazon_sentences_test, y_amazon_train, y_amazon_test = train_test_split(amazon_sentences, y_amazon, test_size=0.25, random_state=1000)"
   ]
  },
  {
   "cell_type": "code",
   "execution_count": 12,
   "id": "c43b61e2-b04b-4d79-944f-bfe4805b2511",
   "metadata": {},
   "outputs": [],
   "source": [
    "\n",
    "imdb_sentences_train, imdb_sentences_test, y_imdb_train, y_imdb_test = train_test_split(imdb_sentences, y_imdb, test_size=0.25, random_state=1000)"
   ]
  },
  {
   "cell_type": "code",
   "execution_count": 13,
   "id": "2ee8022b-483f-461e-97f2-9fd4b948c1f4",
   "metadata": {},
   "outputs": [
    {
     "data": {
      "text/plain": [
       "<750x1714 sparse matrix of type '<class 'numpy.int64'>'\n",
       "\twith 7368 stored elements in Compressed Sparse Row format>"
      ]
     },
     "execution_count": 13,
     "metadata": {},
     "output_type": "execute_result"
    }
   ],
   "source": [
    "vectorizer_yelp = CountVectorizer()\n",
    "vectorizer_yelp.fit(yelp_sentences_train)\n",
    "\n",
    "X_yelp_train = vectorizer_yelp.transform(yelp_sentences_train)\n",
    "X_yelp_test  = vectorizer_yelp.transform(yelp_sentences_test)\n",
    "X_yelp_train"
   ]
  },
  {
   "cell_type": "code",
   "execution_count": 14,
   "id": "473b1524-8539-45c2-a56e-da05a55e5967",
   "metadata": {},
   "outputs": [
    {
     "data": {
      "text/plain": [
       "<750x1546 sparse matrix of type '<class 'numpy.int64'>'\n",
       "\twith 6817 stored elements in Compressed Sparse Row format>"
      ]
     },
     "execution_count": 14,
     "metadata": {},
     "output_type": "execute_result"
    }
   ],
   "source": [
    "vectorizer_amazon = CountVectorizer()\n",
    "vectorizer_amazon.fit(amazon_sentences_train)\n",
    "\n",
    "X_amazon_train = vectorizer_amazon.transform(amazon_sentences_train)\n",
    "X_amazon_test  = vectorizer_amazon.transform(amazon_sentences_test)\n",
    "X_amazon_train"
   ]
  },
  {
   "cell_type": "code",
   "execution_count": 15,
   "id": "8d8d38fa-c2f2-431b-ad79-89597dacc65e",
   "metadata": {},
   "outputs": [
    {
     "data": {
      "text/plain": [
       "<561x2505 sparse matrix of type '<class 'numpy.int64'>'\n",
       "\twith 8413 stored elements in Compressed Sparse Row format>"
      ]
     },
     "execution_count": 15,
     "metadata": {},
     "output_type": "execute_result"
    }
   ],
   "source": [
    "vectorizer_imdb = CountVectorizer()\n",
    "vectorizer_imdb.fit(imdb_sentences_train)\n",
    "\n",
    "X_imdb_train = vectorizer_imdb.transform(imdb_sentences_train)\n",
    "X_imdb_test  = vectorizer_imdb.transform(imdb_sentences_test)\n",
    "X_imdb_train"
   ]
  },
  {
   "cell_type": "code",
   "execution_count": 16,
   "id": "87bfdca3-7c02-42d8-a8f7-313e601c0e1d",
   "metadata": {},
   "outputs": [
    {
     "name": "stdout",
     "output_type": "stream",
     "text": [
      "Accuracy: 0.796\n"
     ]
    }
   ],
   "source": [
    "classifier_yelp = LogisticRegression()\n",
    "classifier_yelp.fit(X_yelp_train, y_yelp_train)\n",
    "score_yelp = classifier_yelp.score(X_yelp_test, y_yelp_test)\n",
    "\n",
    "print(\"Accuracy:\", score_yelp)"
   ]
  },
  {
   "cell_type": "code",
   "execution_count": 17,
   "id": "94eee21f-1e4a-45fa-a7b9-2b4e85ee0920",
   "metadata": {},
   "outputs": [
    {
     "name": "stdout",
     "output_type": "stream",
     "text": [
      "Accuracy: 0.796\n"
     ]
    }
   ],
   "source": [
    "classifier_amazon = LogisticRegression()\n",
    "classifier_amazon.fit(X_amazon_train, y_amazon_train)\n",
    "score_amazon = classifier_amazon.score(X_amazon_test, y_amazon_test)\n",
    "\n",
    "print(\"Accuracy:\", score_amazon)"
   ]
  },
  {
   "cell_type": "code",
   "execution_count": 18,
   "id": "375fcd64-1c47-4c03-8bc6-98a577fb6c6e",
   "metadata": {},
   "outputs": [
    {
     "name": "stdout",
     "output_type": "stream",
     "text": [
      "Accuracy: 0.7486631016042781\n"
     ]
    }
   ],
   "source": [
    "classifier_imdb = LogisticRegression()\n",
    "classifier_imdb.fit(X_imdb_train, y_imdb_train)\n",
    "score_imdb = classifier_imdb.score(X_imdb_test, y_imdb_test)\n",
    "\n",
    "print(\"Accuracy:\", score_imdb)"
   ]
  },
  {
   "cell_type": "code",
   "execution_count": null,
   "id": "cf4d7344-7d3a-46f9-b43c-c4a10ca313b1",
   "metadata": {},
   "outputs": [],
   "source": []
  }
 ],
 "metadata": {
  "kernelspec": {
   "display_name": "Python 3",
   "language": "python",
   "name": "python3"
  },
  "language_info": {
   "codemirror_mode": {
    "name": "ipython",
    "version": 3
   },
   "file_extension": ".py",
   "mimetype": "text/x-python",
   "name": "python",
   "nbconvert_exporter": "python",
   "pygments_lexer": "ipython3",
   "version": "3.9.4"
  }
 },
 "nbformat": 4,
 "nbformat_minor": 5
}
